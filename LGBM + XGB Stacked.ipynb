{
 "cells": [
  {
   "cell_type": "markdown",
   "metadata": {},
   "source": [
    "#  LightGBM and XGBoost Stacked\n",
    "Logistic Regression ran on top of two models. Preprocessing too."
   ]
  },
  {
   "cell_type": "markdown",
   "metadata": {},
   "source": [
    "## Imports"
   ]
  },
  {
   "cell_type": "code",
   "execution_count": 72,
   "metadata": {},
   "outputs": [],
   "source": [
    "import pandas as pd\n",
    "import lightgbm as lgb\n",
    "import xgboost as xgb\n",
    "from sklearn.preprocessing import OneHotEncoder \n",
    "from sklearn.preprocessing import LabelEncoder \n",
    "from sklearn.model_selection import KFold\n",
    "import numpy as np\n",
    "import seaborn as sns\n",
    "import matplotlib.pyplot as plt\n",
    "from sklearn.metrics import accuracy_score as acc\n",
    "from scipy.stats import hmean \n",
    "from numpy import argmax\n",
    "from sklearn.metrics import roc_auc_score as ras\n",
    "from sklearn.linear_model import LogisticRegression as lr"
   ]
  },
  {
   "cell_type": "markdown",
   "metadata": {},
   "source": [
    "## Reading Data\n",
    "#### ...and some simple analysis."
   ]
  },
  {
   "cell_type": "code",
   "execution_count": 73,
   "metadata": {},
   "outputs": [],
   "source": [
    "df_test=pd.read_csv('test.csv')\n",
    "df_train=pd.read_csv('train.csv')"
   ]
  },
  {
   "cell_type": "code",
   "execution_count": 74,
   "metadata": {},
   "outputs": [
    {
     "data": {
      "text/plain": [
       "False"
      ]
     },
     "execution_count": 74,
     "metadata": {},
     "output_type": "execute_result"
    }
   ],
   "source": [
    "#checking for null values\n",
    "df_train.isnull().values.any()"
   ]
  },
  {
   "cell_type": "code",
   "execution_count": 75,
   "metadata": {},
   "outputs": [
    {
     "data": {
      "text/plain": [
       "(31649, 18)"
      ]
     },
     "execution_count": 75,
     "metadata": {},
     "output_type": "execute_result"
    }
   ],
   "source": [
    "df_train.shape"
   ]
  },
  {
   "cell_type": "code",
   "execution_count": 76,
   "metadata": {},
   "outputs": [
    {
     "data": {
      "text/plain": [
       "(13562, 17)"
      ]
     },
     "execution_count": 76,
     "metadata": {},
     "output_type": "execute_result"
    }
   ],
   "source": [
    "df_test.shape"
   ]
  },
  {
   "cell_type": "code",
   "execution_count": 77,
   "metadata": {},
   "outputs": [
    {
     "data": {
      "text/html": [
       "<div>\n",
       "<style scoped>\n",
       "    .dataframe tbody tr th:only-of-type {\n",
       "        vertical-align: middle;\n",
       "    }\n",
       "\n",
       "    .dataframe tbody tr th {\n",
       "        vertical-align: top;\n",
       "    }\n",
       "\n",
       "    .dataframe thead th {\n",
       "        text-align: right;\n",
       "    }\n",
       "</style>\n",
       "<table border=\"1\" class=\"dataframe\">\n",
       "  <thead>\n",
       "    <tr style=\"text-align: right;\">\n",
       "      <th></th>\n",
       "      <th>serial_number</th>\n",
       "      <th>age_in_years</th>\n",
       "      <th>job_description</th>\n",
       "      <th>marital_status</th>\n",
       "      <th>education_details</th>\n",
       "      <th>has_default</th>\n",
       "      <th>balance_in_account</th>\n",
       "      <th>housing_status</th>\n",
       "      <th>previous_loan</th>\n",
       "      <th>phone_type</th>\n",
       "      <th>date</th>\n",
       "      <th>month_of_year</th>\n",
       "      <th>call_duration</th>\n",
       "      <th>campaign_contacts</th>\n",
       "      <th>days_passed</th>\n",
       "      <th>previous_contact</th>\n",
       "      <th>poutcome_of_campaign</th>\n",
       "    </tr>\n",
       "  </thead>\n",
       "  <tbody>\n",
       "    <tr>\n",
       "      <th>0</th>\n",
       "      <td>1</td>\n",
       "      <td>33</td>\n",
       "      <td>admin.</td>\n",
       "      <td>married</td>\n",
       "      <td>secondary</td>\n",
       "      <td>no</td>\n",
       "      <td>796</td>\n",
       "      <td>yes</td>\n",
       "      <td>no</td>\n",
       "      <td>telephone</td>\n",
       "      <td>6</td>\n",
       "      <td>apr</td>\n",
       "      <td>216</td>\n",
       "      <td>1</td>\n",
       "      <td>-1</td>\n",
       "      <td>0</td>\n",
       "      <td>unknown</td>\n",
       "    </tr>\n",
       "    <tr>\n",
       "      <th>1</th>\n",
       "      <td>2</td>\n",
       "      <td>40</td>\n",
       "      <td>management</td>\n",
       "      <td>married</td>\n",
       "      <td>secondary</td>\n",
       "      <td>no</td>\n",
       "      <td>754</td>\n",
       "      <td>no</td>\n",
       "      <td>yes</td>\n",
       "      <td>cellular</td>\n",
       "      <td>6</td>\n",
       "      <td>apr</td>\n",
       "      <td>635</td>\n",
       "      <td>1</td>\n",
       "      <td>-1</td>\n",
       "      <td>0</td>\n",
       "      <td>unknown</td>\n",
       "    </tr>\n",
       "    <tr>\n",
       "      <th>2</th>\n",
       "      <td>3</td>\n",
       "      <td>30</td>\n",
       "      <td>technician</td>\n",
       "      <td>single</td>\n",
       "      <td>secondary</td>\n",
       "      <td>no</td>\n",
       "      <td>10152</td>\n",
       "      <td>yes</td>\n",
       "      <td>no</td>\n",
       "      <td>cellular</td>\n",
       "      <td>6</td>\n",
       "      <td>apr</td>\n",
       "      <td>1108</td>\n",
       "      <td>2</td>\n",
       "      <td>270</td>\n",
       "      <td>1</td>\n",
       "      <td>failure</td>\n",
       "    </tr>\n",
       "    <tr>\n",
       "      <th>3</th>\n",
       "      <td>4</td>\n",
       "      <td>44</td>\n",
       "      <td>blue-collar</td>\n",
       "      <td>married</td>\n",
       "      <td>secondary</td>\n",
       "      <td>no</td>\n",
       "      <td>545</td>\n",
       "      <td>yes</td>\n",
       "      <td>no</td>\n",
       "      <td>cellular</td>\n",
       "      <td>6</td>\n",
       "      <td>apr</td>\n",
       "      <td>122</td>\n",
       "      <td>3</td>\n",
       "      <td>136</td>\n",
       "      <td>1</td>\n",
       "      <td>failure</td>\n",
       "    </tr>\n",
       "    <tr>\n",
       "      <th>4</th>\n",
       "      <td>5</td>\n",
       "      <td>35</td>\n",
       "      <td>technician</td>\n",
       "      <td>married</td>\n",
       "      <td>secondary</td>\n",
       "      <td>no</td>\n",
       "      <td>5553</td>\n",
       "      <td>yes</td>\n",
       "      <td>no</td>\n",
       "      <td>cellular</td>\n",
       "      <td>6</td>\n",
       "      <td>apr</td>\n",
       "      <td>371</td>\n",
       "      <td>3</td>\n",
       "      <td>136</td>\n",
       "      <td>7</td>\n",
       "      <td>failure</td>\n",
       "    </tr>\n",
       "  </tbody>\n",
       "</table>\n",
       "</div>"
      ],
      "text/plain": [
       "   serial_number  age_in_years job_description marital_status  \\\n",
       "0              1            33          admin.        married   \n",
       "1              2            40      management        married   \n",
       "2              3            30      technician         single   \n",
       "3              4            44     blue-collar        married   \n",
       "4              5            35      technician        married   \n",
       "\n",
       "  education_details has_default  balance_in_account housing_status  \\\n",
       "0         secondary          no                 796            yes   \n",
       "1         secondary          no                 754             no   \n",
       "2         secondary          no               10152            yes   \n",
       "3         secondary          no                 545            yes   \n",
       "4         secondary          no                5553            yes   \n",
       "\n",
       "  previous_loan phone_type  date month_of_year  call_duration  \\\n",
       "0            no  telephone     6           apr            216   \n",
       "1           yes   cellular     6           apr            635   \n",
       "2            no   cellular     6           apr           1108   \n",
       "3            no   cellular     6           apr            122   \n",
       "4            no   cellular     6           apr            371   \n",
       "\n",
       "   campaign_contacts  days_passed  previous_contact poutcome_of_campaign  \n",
       "0                  1           -1                 0              unknown  \n",
       "1                  1           -1                 0              unknown  \n",
       "2                  2          270                 1              failure  \n",
       "3                  3          136                 1              failure  \n",
       "4                  3          136                 7              failure  "
      ]
     },
     "execution_count": 77,
     "metadata": {},
     "output_type": "execute_result"
    }
   ],
   "source": [
    "df_test.head()"
   ]
  },
  {
   "cell_type": "code",
   "execution_count": 78,
   "metadata": {},
   "outputs": [
    {
     "data": {
      "text/html": [
       "<div>\n",
       "<style scoped>\n",
       "    .dataframe tbody tr th:only-of-type {\n",
       "        vertical-align: middle;\n",
       "    }\n",
       "\n",
       "    .dataframe tbody tr th {\n",
       "        vertical-align: top;\n",
       "    }\n",
       "\n",
       "    .dataframe thead th {\n",
       "        text-align: right;\n",
       "    }\n",
       "</style>\n",
       "<table border=\"1\" class=\"dataframe\">\n",
       "  <thead>\n",
       "    <tr style=\"text-align: right;\">\n",
       "      <th></th>\n",
       "      <th>serial_number</th>\n",
       "      <th>age_in_years</th>\n",
       "      <th>job_description</th>\n",
       "      <th>marital_status</th>\n",
       "      <th>education_details</th>\n",
       "      <th>has_default</th>\n",
       "      <th>balance_in_account</th>\n",
       "      <th>housing_status</th>\n",
       "      <th>previous_loan</th>\n",
       "      <th>phone_type</th>\n",
       "      <th>date</th>\n",
       "      <th>month_of_year</th>\n",
       "      <th>call_duration</th>\n",
       "      <th>campaign_contacts</th>\n",
       "      <th>days_passed</th>\n",
       "      <th>previous_contact</th>\n",
       "      <th>poutcome_of_campaign</th>\n",
       "      <th>outcome</th>\n",
       "    </tr>\n",
       "  </thead>\n",
       "  <tbody>\n",
       "    <tr>\n",
       "      <th>0</th>\n",
       "      <td>1</td>\n",
       "      <td>58</td>\n",
       "      <td>management</td>\n",
       "      <td>married</td>\n",
       "      <td>tertiary</td>\n",
       "      <td>no</td>\n",
       "      <td>2143</td>\n",
       "      <td>yes</td>\n",
       "      <td>no</td>\n",
       "      <td>unknown</td>\n",
       "      <td>5</td>\n",
       "      <td>may</td>\n",
       "      <td>261</td>\n",
       "      <td>1</td>\n",
       "      <td>-1</td>\n",
       "      <td>0</td>\n",
       "      <td>unknown</td>\n",
       "      <td>no</td>\n",
       "    </tr>\n",
       "    <tr>\n",
       "      <th>1</th>\n",
       "      <td>2</td>\n",
       "      <td>44</td>\n",
       "      <td>technician</td>\n",
       "      <td>single</td>\n",
       "      <td>secondary</td>\n",
       "      <td>no</td>\n",
       "      <td>29</td>\n",
       "      <td>yes</td>\n",
       "      <td>no</td>\n",
       "      <td>unknown</td>\n",
       "      <td>5</td>\n",
       "      <td>may</td>\n",
       "      <td>151</td>\n",
       "      <td>1</td>\n",
       "      <td>-1</td>\n",
       "      <td>0</td>\n",
       "      <td>unknown</td>\n",
       "      <td>no</td>\n",
       "    </tr>\n",
       "    <tr>\n",
       "      <th>2</th>\n",
       "      <td>3</td>\n",
       "      <td>33</td>\n",
       "      <td>entrepreneur</td>\n",
       "      <td>married</td>\n",
       "      <td>secondary</td>\n",
       "      <td>no</td>\n",
       "      <td>2</td>\n",
       "      <td>yes</td>\n",
       "      <td>yes</td>\n",
       "      <td>unknown</td>\n",
       "      <td>5</td>\n",
       "      <td>may</td>\n",
       "      <td>76</td>\n",
       "      <td>1</td>\n",
       "      <td>-1</td>\n",
       "      <td>0</td>\n",
       "      <td>unknown</td>\n",
       "      <td>no</td>\n",
       "    </tr>\n",
       "    <tr>\n",
       "      <th>3</th>\n",
       "      <td>4</td>\n",
       "      <td>47</td>\n",
       "      <td>blue-collar</td>\n",
       "      <td>married</td>\n",
       "      <td>unknown</td>\n",
       "      <td>no</td>\n",
       "      <td>1506</td>\n",
       "      <td>yes</td>\n",
       "      <td>no</td>\n",
       "      <td>unknown</td>\n",
       "      <td>5</td>\n",
       "      <td>may</td>\n",
       "      <td>92</td>\n",
       "      <td>1</td>\n",
       "      <td>-1</td>\n",
       "      <td>0</td>\n",
       "      <td>unknown</td>\n",
       "      <td>no</td>\n",
       "    </tr>\n",
       "    <tr>\n",
       "      <th>4</th>\n",
       "      <td>5</td>\n",
       "      <td>33</td>\n",
       "      <td>unknown</td>\n",
       "      <td>single</td>\n",
       "      <td>unknown</td>\n",
       "      <td>no</td>\n",
       "      <td>1</td>\n",
       "      <td>no</td>\n",
       "      <td>no</td>\n",
       "      <td>unknown</td>\n",
       "      <td>5</td>\n",
       "      <td>may</td>\n",
       "      <td>198</td>\n",
       "      <td>1</td>\n",
       "      <td>-1</td>\n",
       "      <td>0</td>\n",
       "      <td>unknown</td>\n",
       "      <td>no</td>\n",
       "    </tr>\n",
       "  </tbody>\n",
       "</table>\n",
       "</div>"
      ],
      "text/plain": [
       "   serial_number  age_in_years job_description marital_status  \\\n",
       "0              1            58      management        married   \n",
       "1              2            44      technician         single   \n",
       "2              3            33    entrepreneur        married   \n",
       "3              4            47     blue-collar        married   \n",
       "4              5            33         unknown         single   \n",
       "\n",
       "  education_details has_default  balance_in_account housing_status  \\\n",
       "0          tertiary          no                2143            yes   \n",
       "1         secondary          no                  29            yes   \n",
       "2         secondary          no                   2            yes   \n",
       "3           unknown          no                1506            yes   \n",
       "4           unknown          no                   1             no   \n",
       "\n",
       "  previous_loan phone_type  date month_of_year  call_duration  \\\n",
       "0            no    unknown     5           may            261   \n",
       "1            no    unknown     5           may            151   \n",
       "2           yes    unknown     5           may             76   \n",
       "3            no    unknown     5           may             92   \n",
       "4            no    unknown     5           may            198   \n",
       "\n",
       "   campaign_contacts  days_passed  previous_contact poutcome_of_campaign  \\\n",
       "0                  1           -1                 0              unknown   \n",
       "1                  1           -1                 0              unknown   \n",
       "2                  1           -1                 0              unknown   \n",
       "3                  1           -1                 0              unknown   \n",
       "4                  1           -1                 0              unknown   \n",
       "\n",
       "  outcome  \n",
       "0      no  \n",
       "1      no  \n",
       "2      no  \n",
       "3      no  \n",
       "4      no  "
      ]
     },
     "execution_count": 78,
     "metadata": {},
     "output_type": "execute_result"
    }
   ],
   "source": [
    "df_train.head()"
   ]
  },
  {
   "cell_type": "code",
   "execution_count": 79,
   "metadata": {},
   "outputs": [
    {
     "data": {
      "image/png": "[encoded data removed]",
      "text/plain": [
       "<Figure size 792x648 with 2 Axes>"
      ]
     },
     "metadata": {},
     "output_type": "display_data"
    }
   ],
   "source": [
    "sns.set(style=\"white\")\n",
    "corr = df_train.corr()\n",
    "f, ax = plt.subplots(figsize=(11, 9))\n",
    "cmap = sns.diverging_palette(220, 10, as_cmap=True)\n",
    "sns.heatmap(corr, cmap=cmap, vmax=.3, center=0,\n",
    "            square=True, linewidths=.5, cbar_kws={\"shrink\": .5})\n",
    "plt.show()"
   ]
  },
  {
   "cell_type": "markdown",
   "metadata": {},
   "source": [
    "### Feature Processing\n",
    "handling unknown data."
   ]
  },
  {
   "cell_type": "code",
   "execution_count": 80,
   "metadata": {},
   "outputs": [],
   "source": [
    "dataset_new=df_train\n",
    "test_final=df_test\n",
    "def impute_unknowns(df, column):\n",
    "    col_values = df[column].values\n",
    "    df[column] = np.where(col_values=='unknown', df_train[column].mode(), col_values)\n",
    "    return df\n",
    "dataset_new = impute_unknowns(df=dataset_new, column='job_description')\n",
    "dataset_new = impute_unknowns(df=dataset_new, column='education_details')\n",
    "test_final = impute_unknowns(df=df_test, column='job_description')\n",
    "test_final = impute_unknowns(df=test_final, column='education_details')"
   ]
  },
  {
   "cell_type": "markdown",
   "metadata": {},
   "source": [
    "## Data separation"
   ]
  },
  {
   "cell_type": "code",
   "execution_count": 81,
   "metadata": {},
   "outputs": [
    {
     "data": {
      "text/plain": [
       "(13562, 12)"
      ]
     },
     "execution_count": 81,
     "metadata": {},
     "output_type": "execute_result"
    }
   ],
   "source": [
    "frame_sno = test_final['serial_number'] #serial numbers\n",
    "frame_train_target = pd.DataFrame(dataset_new['outcome']) #Y of train\n",
    "frame_train = dataset_new.drop(['outcome','serial_number','month_of_year', 'date', 'poutcome_of_campaign', 'phone_type'], axis = 1) #X array of train\n",
    "frame_test = test_final.drop(['serial_number','month_of_year', 'date', 'poutcome_of_campaign', 'phone_type'], axis = 1) #testdata array\n",
    "frame_test.shape"
   ]
  },
  {
   "cell_type": "markdown",
   "metadata": {},
   "source": [
    "## Adopting Ninjarao's Encoding"
   ]
  },
  {
   "cell_type": "markdown",
   "metadata": {},
   "source": [
    "### Target Variable"
   ]
  },
  {
   "cell_type": "code",
   "execution_count": 82,
   "metadata": {},
   "outputs": [],
   "source": [
    "encoder= LabelEncoder()\n",
    "dataset_encoded= encoder.fit_transform(frame_train_target['outcome'])\n",
    "dataset_encoded\n",
    "frame_train_target['outcome']=dataset_encoded\n"
   ]
  },
  {
   "cell_type": "code",
   "execution_count": 83,
   "metadata": {
    "scrolled": true
   },
   "outputs": [
    {
     "data": {
      "text/html": [
       "<div>\n",
       "<style scoped>\n",
       "    .dataframe tbody tr th:only-of-type {\n",
       "        vertical-align: middle;\n",
       "    }\n",
       "\n",
       "    .dataframe tbody tr th {\n",
       "        vertical-align: top;\n",
       "    }\n",
       "\n",
       "    .dataframe thead th {\n",
       "        text-align: right;\n",
       "    }\n",
       "</style>\n",
       "<table border=\"1\" class=\"dataframe\">\n",
       "  <thead>\n",
       "    <tr style=\"text-align: right;\">\n",
       "      <th></th>\n",
       "      <th>outcome</th>\n",
       "    </tr>\n",
       "  </thead>\n",
       "  <tbody>\n",
       "    <tr>\n",
       "      <th>0</th>\n",
       "      <td>0</td>\n",
       "    </tr>\n",
       "    <tr>\n",
       "      <th>83</th>\n",
       "      <td>1</td>\n",
       "    </tr>\n",
       "  </tbody>\n",
       "</table>\n",
       "</div>"
      ],
      "text/plain": [
       "    outcome\n",
       "0         0\n",
       "83        1"
      ]
     },
     "execution_count": 83,
     "metadata": {},
     "output_type": "execute_result"
    }
   ],
   "source": [
    "frame_train_target.drop_duplicates()"
   ]
  },
  {
   "cell_type": "markdown",
   "metadata": {},
   "source": [
    "### Binary features"
   ]
  },
  {
   "cell_type": "code",
   "execution_count": 84,
   "metadata": {},
   "outputs": [
    {
     "name": "stdout",
     "output_type": "stream",
     "text": [
      "3 columns were label encoded.\n"
     ]
    }
   ],
   "source": [
    "le = LabelEncoder()\n",
    "le_count = 0\n",
    "\n",
    "# Iterate through the columns\n",
    "for col in frame_train:\n",
    "    if frame_train[col].dtype == 'object':\n",
    "        # If 2 or fewer unique categories\n",
    "        if len(list(frame_train[col].unique())) <= 2:\n",
    "            # Train on the training data\n",
    "            le.fit(frame_train[col])\n",
    "            # Transform both training and testing data\n",
    "            frame_train[col] = le.transform(frame_train[col])\n",
    "            frame_test[col] = le.transform(frame_test[col])\n",
    "            \n",
    "            # Keep track of how many columns were label encoded\n",
    "            le_count += 1\n",
    "            \n",
    "print('%d columns were label encoded.' % le_count)\n"
   ]
  },
  {
   "cell_type": "markdown",
   "metadata": {},
   "source": [
    "### One hot for other categoricals"
   ]
  },
  {
   "cell_type": "code",
   "execution_count": 85,
   "metadata": {},
   "outputs": [
    {
     "name": "stdout",
     "output_type": "stream",
     "text": [
      "Training Features shape:  (31649, 26)\n",
      "Testing Features shape:  (13562, 26)\n"
     ]
    }
   ],
   "source": [
    "frame_train = pd.get_dummies(frame_train)#One hot encoding(Prolly better ways of doing this)\n",
    "frame_test = pd.get_dummies(frame_test)\n",
    "\n",
    "train_labels = frame_train_target\n",
    "# Align the training and testing data, keep only columns present in both dataframes\n",
    "frame_train, frame_test = frame_train.align(frame_test, join = 'inner', axis = 1)\n",
    "\n",
    "# Add the target back in\n",
    "#frame_train['outcome'] = train_labels\n",
    "\n",
    "print('Training Features shape: ', frame_train.shape)\n",
    "print('Testing Features shape: ', frame_test.shape)\n",
    "\n"
   ]
  },
  {
   "cell_type": "markdown",
   "metadata": {},
   "source": [
    "### Viewing"
   ]
  },
  {
   "cell_type": "code",
   "execution_count": 86,
   "metadata": {},
   "outputs": [],
   "source": [
    "#frame_train"
   ]
  },
  {
   "cell_type": "markdown",
   "metadata": {},
   "source": [
    "## Conversion into arrays for K-Fold"
   ]
  },
  {
   "cell_type": "code",
   "execution_count": 87,
   "metadata": {},
   "outputs": [
    {
     "data": {
      "text/plain": [
       "(31649, 26)"
      ]
     },
     "execution_count": 87,
     "metadata": {},
     "output_type": "execute_result"
    }
   ],
   "source": [
    "sno = frame_sno.values \n",
    "train_target = frame_train_target.values\n",
    "train = np.array(frame_train) \n",
    "test = np.array(frame_test) \n",
    "frame_train.shape"
   ]
  },
  {
   "cell_type": "markdown",
   "metadata": {},
   "source": [
    "## K-Fold"
   ]
  },
  {
   "cell_type": "code",
   "execution_count": 88,
   "metadata": {},
   "outputs": [
    {
     "name": "stdout",
     "output_type": "stream",
     "text": [
      "TRAIN: [ 3165  3166  3167 ... 31646 31647 31648] TEST: [   0    1    2 ... 3162 3163 3164]\n",
      "L_Score:  0.9680884676145339\n",
      "L_AUC score:  0.959350927422332\n",
      "X_Score:  0.9658767772511848\n",
      "X_AUC score:  0.9570169897536445\n",
      "TRAIN: [    0     1     2 ... 31646 31647 31648] TEST: [3165 3166 3167 ... 6327 6328 6329]\n"
     ]
    },
    {
     "name": "stderr",
     "output_type": "stream",
     "text": [
      "C:\\ProgramData\\Anaconda3\\lib\\site-packages\\sklearn\\linear_model\\logistic.py:433: FutureWarning: Default solver will be changed to 'lbfgs' in 0.22. Specify a solver to silence this warning.\n",
      "  FutureWarning)\n"
     ]
    },
    {
     "name": "stdout",
     "output_type": "stream",
     "text": [
      "L_Score:  0.9589257503949447\n",
      "L_AUC score:  0.952351020453572\n",
      "X_Score:  0.9560821484992101\n",
      "X_AUC score:  0.9510187848008322\n",
      "TRAIN: [    0     1     2 ... 31646 31647 31648] TEST: [6330 6331 6332 ... 9492 9493 9494]\n"
     ]
    },
    {
     "name": "stderr",
     "output_type": "stream",
     "text": [
      "C:\\ProgramData\\Anaconda3\\lib\\site-packages\\sklearn\\linear_model\\logistic.py:433: FutureWarning: Default solver will be changed to 'lbfgs' in 0.22. Specify a solver to silence this warning.\n",
      "  FutureWarning)\n"
     ]
    },
    {
     "name": "stdout",
     "output_type": "stream",
     "text": [
      "L_Score:  0.953870458135861\n",
      "L_AUC score:  0.9409852096320742\n",
      "X_Score:  0.9529225908372828\n",
      "X_AUC score:  0.9408483070529274\n",
      "TRAIN: [    0     1     2 ... 31646 31647 31648] TEST: [ 9495  9496  9497 ... 12657 12658 12659]\n"
     ]
    },
    {
     "name": "stderr",
     "output_type": "stream",
     "text": [
      "C:\\ProgramData\\Anaconda3\\lib\\site-packages\\sklearn\\linear_model\\logistic.py:433: FutureWarning: Default solver will be changed to 'lbfgs' in 0.22. Specify a solver to silence this warning.\n",
      "  FutureWarning)\n"
     ]
    },
    {
     "name": "stdout",
     "output_type": "stream",
     "text": [
      "L_Score:  0.958609794628752\n",
      "L_AUC score:  0.9480283583913948\n",
      "X_Score:  0.9579778830963666\n",
      "X_AUC score:  0.9483437232612151\n",
      "TRAIN: [    0     1     2 ... 31646 31647 31648] TEST: [12660 12661 12662 ... 15822 15823 15824]\n"
     ]
    },
    {
     "name": "stderr",
     "output_type": "stream",
     "text": [
      "C:\\ProgramData\\Anaconda3\\lib\\site-packages\\sklearn\\linear_model\\logistic.py:433: FutureWarning: Default solver will be changed to 'lbfgs' in 0.22. Specify a solver to silence this warning.\n",
      "  FutureWarning)\n"
     ]
    },
    {
     "name": "stdout",
     "output_type": "stream",
     "text": [
      "L_Score:  0.9387045813586098\n",
      "L_AUC score:  0.9358790801652789\n",
      "X_Score:  0.9352290679304898\n",
      "X_AUC score:  0.9341914396593948\n",
      "TRAIN: [    0     1     2 ... 31646 31647 31648] TEST: [15825 15826 15827 ... 18987 18988 18989]\n"
     ]
    },
    {
     "name": "stderr",
     "output_type": "stream",
     "text": [
      "C:\\ProgramData\\Anaconda3\\lib\\site-packages\\sklearn\\linear_model\\logistic.py:433: FutureWarning: Default solver will be changed to 'lbfgs' in 0.22. Specify a solver to silence this warning.\n",
      "  FutureWarning)\n"
     ]
    },
    {
     "name": "stdout",
     "output_type": "stream",
     "text": [
      "L_Score:  0.9462875197472354\n",
      "L_AUC score:  0.9445212121212121\n",
      "X_Score:  0.9513428120063191\n",
      "X_AUC score:  0.9444242424242424\n",
      "TRAIN: [    0     1     2 ... 31646 31647 31648] TEST: [18990 18991 18992 ... 22152 22153 22154]\n"
     ]
    },
    {
     "name": "stderr",
     "output_type": "stream",
     "text": [
      "C:\\ProgramData\\Anaconda3\\lib\\site-packages\\sklearn\\linear_model\\logistic.py:433: FutureWarning: Default solver will be changed to 'lbfgs' in 0.22. Specify a solver to silence this warning.\n",
      "  FutureWarning)\n"
     ]
    },
    {
     "name": "stdout",
     "output_type": "stream",
     "text": [
      "L_Score:  0.9393364928909953\n",
      "L_AUC score:  0.9448784358948128\n",
      "X_Score:  0.9399684044233807\n",
      "X_AUC score:  0.94291307461243\n",
      "TRAIN: [    0     1     2 ... 31646 31647 31648] TEST: [22155 22156 22157 ... 25317 25318 25319]\n"
     ]
    },
    {
     "name": "stderr",
     "output_type": "stream",
     "text": [
      "C:\\ProgramData\\Anaconda3\\lib\\site-packages\\sklearn\\linear_model\\logistic.py:433: FutureWarning: Default solver will be changed to 'lbfgs' in 0.22. Specify a solver to silence this warning.\n",
      "  FutureWarning)\n"
     ]
    },
    {
     "name": "stdout",
     "output_type": "stream",
     "text": [
      "L_Score:  0.9469194312796209\n",
      "L_AUC score:  0.8566998691564751\n",
      "X_Score:  0.9459715639810427\n",
      "X_AUC score:  0.8627050575182084\n",
      "TRAIN: [    0     1     2 ... 31646 31647 31648] TEST: [25320 25321 25322 ... 28482 28483 28484]\n"
     ]
    },
    {
     "name": "stderr",
     "output_type": "stream",
     "text": [
      "C:\\ProgramData\\Anaconda3\\lib\\site-packages\\sklearn\\linear_model\\logistic.py:433: FutureWarning: Default solver will be changed to 'lbfgs' in 0.22. Specify a solver to silence this warning.\n",
      "  FutureWarning)\n"
     ]
    },
    {
     "name": "stdout",
     "output_type": "stream",
     "text": [
      "L_Score:  0.9368088467614534\n",
      "L_AUC score:  0.9029483210640914\n",
      "X_Score:  0.9409162717219589\n",
      "X_AUC score:  0.9040888421489195\n",
      "TRAIN: [    0     1     2 ... 28482 28483 28484] TEST: [28485 28486 28487 ... 31646 31647 31648]\n"
     ]
    },
    {
     "name": "stderr",
     "output_type": "stream",
     "text": [
      "C:\\ProgramData\\Anaconda3\\lib\\site-packages\\sklearn\\linear_model\\logistic.py:433: FutureWarning: Default solver will be changed to 'lbfgs' in 0.22. Specify a solver to silence this warning.\n",
      "  FutureWarning)\n"
     ]
    },
    {
     "name": "stdout",
     "output_type": "stream",
     "text": [
      "L_Score:  0.8723135271807838\n",
      "L_AUC score:  0.7347302633597321\n",
      "X_Score:  0.8691529709228825\n",
      "X_AUC score:  0.7276380896448653\n"
     ]
    },
    {
     "name": "stderr",
     "output_type": "stream",
     "text": [
      "C:\\ProgramData\\Anaconda3\\lib\\site-packages\\sklearn\\linear_model\\logistic.py:433: FutureWarning: Default solver will be changed to 'lbfgs' in 0.22. Specify a solver to silence this warning.\n",
      "  FutureWarning)\n"
     ]
    }
   ],
   "source": [
    "K=10\n",
    "kf = KFold(n_splits=K, random_state=42)\n",
    "\n",
    "y_tests=[] #will be used for averaging model predictions SCORES\n",
    "\n",
    "#LGBM\n",
    "lscore_preds=[] #holds predictions made for scoring\n",
    "lgb_preds=[] #will hold the k folds of predictions\n",
    "lscores=[] #will hold accuracy score of each fold\n",
    "laucs=[] #will hold AUC score of each fold\n",
    "\n",
    "#XGBOOST\n",
    "xscore_preds=[]\n",
    "xgb_preds = []\n",
    "xscores=[]\n",
    "xaucs=[]\n",
    "\n",
    "#Logreg\n",
    "log_preds=[]\n",
    "\n",
    "\n",
    "param_dist = {\n",
    "    'task': 'train',\n",
    "    'boosting_type': 'gbdt',\n",
    "    'objective': 'binary',\n",
    "    'learning_rate': 0.035,\n",
    "    'metric': ['auc'],\n",
    "    'is_training_metric' : True,\n",
    "    'tree_leaner': 'data',\n",
    "    'feature_fraction_seed' : 42,\n",
    "    'verbose':0,\n",
    "    'feature_fraction':0.85,\n",
    "    'bagging_fraction': 0.45,\n",
    "    'bagging_freq':7,\n",
    "    # 'bagging_seed': 42,\n",
    "    'l2_lambda':14,\n",
    "    #'l1_lambda': 16,\n",
    "    'num_leaves': 1024,\n",
    "    'min_data_in_leaf':40,\n",
    "    'min_gain_to_split':1,\n",
    "    # 'max_bin' :300\n",
    "} \n",
    "\n",
    "for train_index, test_index in kf.split(train, train_target):\n",
    "    print(\"TRAIN:\", train_index, \"TEST:\", test_index)\n",
    "    X_train, X_test = train[train_index], train[test_index]\n",
    "    y_train, y_test = train_target[train_index].flatten(), train_target[test_index].flatten()\n",
    "    \n",
    "    \n",
    "    \n",
    "    \n",
    "    #LGBM\n",
    "    \n",
    "    #lgb_train = lgb.Dataset(X_train, y_train, free_raw_data=True)\n",
    "    #lgb_val = lgb.Dataset(X_test, y_test, reference=lgb_train, free_raw_data=True)\n",
    "\n",
    "    #lmodel = lgb.train(param_dist,\n",
    "    #                lgb_train,\n",
    "    #                num_boost_round = 40,\n",
    "    #                valid_sets = lgb_val,\n",
    "    #                early_stopping_rounds=12)\n",
    "    \n",
    "    lmodel=lgb.LGBMClassifier(n_estimators=400)\n",
    "    lmodel.fit(X_train, y_train)\n",
    "    \n",
    "    lgb_pred = lmodel.predict_proba(test)[:,1]\n",
    "    lgb_preds.append(lgb_pred)\n",
    "\n",
    "    lscore_pred = lmodel.predict_proba(X_test)[:,1]\n",
    "    #scoring\n",
    "    lscore_preds.append(list(lscore_pred))\n",
    "    \n",
    "    lrounded = np.array(lscore_pred)\n",
    "    #print(lrounded)\n",
    "    mid=0.5\n",
    "    lrounded[lrounded >= mid] = 1\n",
    "    lrounded[lrounded < mid] = 0\n",
    "    #print(lrounded)\n",
    "    \n",
    "    lscore=acc(y_test, lrounded)\n",
    "    lauc=ras(y_test,lscore_pred)\n",
    "    \n",
    "    print('L_Score: ', lscore)\n",
    "    print('L_AUC score: ', lauc)\n",
    "    lscores.append(lscore)\n",
    "    laucs.append(lauc)\n",
    "    \n",
    "    \n",
    "    #XGBOOST\n",
    "    xgb_params = {\n",
    "        'eta': 0.05,\n",
    "        'max_depth': 4,\n",
    "        'subsample': 0.9,\n",
    "        'objective': 'binary:logistic',\n",
    "        'silent': 1,\n",
    "        'colsample_bytree': 0.8,\n",
    "        #'lambda':1.2,\n",
    "        \n",
    "        #'min_child_weight': 0.9,\n",
    "        #'max_delta_step': 1.8,\n",
    "        #'colsample_bytree': 0.7,\n",
    "        #'eta': 0.025,\n",
    "        #'gamma': 0.1,\n",
    "    }\n",
    "\n",
    "\n",
    "    #d_train = xgb.DMatrix(X_train, y_train)\n",
    "    #d_valid = xgb.DMatrix(X_test)\n",
    "    #d_test = xgb.DMatrix(test)\n",
    "    \n",
    "    \n",
    "    #xmodel = xgb.train(xgb_params, d_train, num_boost_round = 190, maximize=True)\n",
    "    xmodel = xgb.XGBClassifier(max_depth=7, learning_rate=0.2, n_estimators=200)\n",
    "    xmodel.fit(X_train, y_train)\n",
    "    \n",
    "    xgb_pred = xmodel.predict_proba(test)[:,1]\n",
    "    xgb_preds.append(list(xgb_pred))\n",
    "    \n",
    "    \n",
    "    \n",
    "    \n",
    "    \n",
    "    #scoring\n",
    "    xscore_pred = xmodel.predict_proba(X_test)[:,1]\n",
    "    xscore_preds.append(list(xscore_pred))\n",
    "    #pd.DataFrame(score_pred)\n",
    "    \n",
    "    xrounded = np.array(xscore_pred)\n",
    "   \n",
    "    mid=0.5\n",
    "    xrounded[xrounded >= mid] = 1\n",
    "    xrounded[xrounded < mid] = 0\n",
    "    \n",
    "    \n",
    "    xscore=acc(y_test, xrounded)\n",
    "    xauc=ras(y_test, xscore_pred)\n",
    "    \n",
    "    print('X_Score: ', xscore)\n",
    "    print('X_AUC score: ', xauc)\n",
    "    xscores.append(xscore)\n",
    "    xaucs.append(xauc)\n",
    "    \n",
    "\n",
    "    \n",
    "    y_tests.append(list(y_test))\n",
    "    \n",
    "    \n",
    "    #LOGREG\n",
    "    \n",
    "    #training\n",
    "    data={'lgb':lscore_pred,'xgb':xscore_pred}\n",
    "    fittable=pd.DataFrame(data)\n",
    "    clf = lr()\n",
    "    #print(fittable)\n",
    "    clf.fit(fittable,y_test)\n",
    "\n",
    "    \n",
    "    \n",
    "    #predicting test data\n",
    "    data={'lgb':lgb_pred,'xgb':xgb_pred}\n",
    "    predictable=pd.DataFrame(data)\n",
    "    #print(lgb_pred)\n",
    "    #print(xgb_pred)\n",
    "    #print(predictable)\n",
    "    log_pred=clf.predict_proba(predictable)\n",
    "    log_pred = log_pred[:, 1]\n",
    "    \n",
    "    \n",
    "    log_preds.append(list(log_pred))\n",
    "    "
   ]
  },
  {
   "cell_type": "markdown",
   "metadata": {},
   "source": [
    "## Averaging Stack Output"
   ]
  },
  {
   "cell_type": "code",
   "execution_count": 89,
   "metadata": {},
   "outputs": [
    {
     "data": {
      "text/plain": [
       "13562"
      ]
     },
     "execution_count": 89,
     "metadata": {},
     "output_type": "execute_result"
    }
   ],
   "source": [
    "logavg=hmean(log_preds)\n",
    "len(logavg)"
   ]
  },
  {
   "cell_type": "code",
   "execution_count": 90,
   "metadata": {},
   "outputs": [],
   "source": [
    "avg=logavg"
   ]
  },
  {
   "cell_type": "markdown",
   "metadata": {},
   "source": [
    "## Preparing the submission"
   ]
  },
  {
   "cell_type": "markdown",
   "metadata": {},
   "source": [
    "### *Rounding averaged values & decoding*"
   ]
  },
  {
   "cell_type": "code",
   "execution_count": 91,
   "metadata": {},
   "outputs": [],
   "source": [
    "mid=0.5\n",
    "avg[avg >= mid] = 1\n",
    "avg[avg < mid] = 0"
   ]
  },
  {
   "cell_type": "code",
   "execution_count": 92,
   "metadata": {},
   "outputs": [],
   "source": [
    "\n",
    "sub=pd.DataFrame({'outcome':avg})\n"
   ]
  },
  {
   "cell_type": "code",
   "execution_count": 93,
   "metadata": {},
   "outputs": [
    {
     "data": {
      "text/html": [
       "<div>\n",
       "<style scoped>\n",
       "    .dataframe tbody tr th:only-of-type {\n",
       "        vertical-align: middle;\n",
       "    }\n",
       "\n",
       "    .dataframe tbody tr th {\n",
       "        vertical-align: top;\n",
       "    }\n",
       "\n",
       "    .dataframe thead th {\n",
       "        text-align: right;\n",
       "    }\n",
       "</style>\n",
       "<table border=\"1\" class=\"dataframe\">\n",
       "  <thead>\n",
       "    <tr style=\"text-align: right;\">\n",
       "      <th></th>\n",
       "      <th>outcome</th>\n",
       "    </tr>\n",
       "  </thead>\n",
       "  <tbody>\n",
       "    <tr>\n",
       "      <th>0</th>\n",
       "      <td>no</td>\n",
       "    </tr>\n",
       "    <tr>\n",
       "      <th>11</th>\n",
       "      <td>yes</td>\n",
       "    </tr>\n",
       "  </tbody>\n",
       "</table>\n",
       "</div>"
      ],
      "text/plain": [
       "   outcome\n",
       "0       no\n",
       "11     yes"
      ]
     },
     "execution_count": 93,
     "metadata": {},
     "output_type": "execute_result"
    }
   ],
   "source": [
    "sub[sub['outcome']==1.0]='yes'\n",
    "sub[sub['outcome']==0.0]='no'\n",
    "sub.drop_duplicates()"
   ]
  },
  {
   "cell_type": "code",
   "execution_count": 94,
   "metadata": {},
   "outputs": [
    {
     "data": {
      "text/plain": [
       "0.9747824804601092"
      ]
     },
     "execution_count": 94,
     "metadata": {},
     "output_type": "execute_result"
    }
   ],
   "source": [
    "sub[sub['outcome']=='no'].shape[0]/sub.shape[0] #percentage of no"
   ]
  },
  {
   "cell_type": "code",
   "execution_count": 95,
   "metadata": {},
   "outputs": [],
   "source": [
    "sub['serial_number']=sno\n",
    "sub=sub[['serial_number','outcome']]"
   ]
  },
  {
   "cell_type": "code",
   "execution_count": 96,
   "metadata": {},
   "outputs": [
    {
     "data": {
      "text/html": [
       "<div>\n",
       "<style scoped>\n",
       "    .dataframe tbody tr th:only-of-type {\n",
       "        vertical-align: middle;\n",
       "    }\n",
       "\n",
       "    .dataframe tbody tr th {\n",
       "        vertical-align: top;\n",
       "    }\n",
       "\n",
       "    .dataframe thead th {\n",
       "        text-align: right;\n",
       "    }\n",
       "</style>\n",
       "<table border=\"1\" class=\"dataframe\">\n",
       "  <thead>\n",
       "    <tr style=\"text-align: right;\">\n",
       "      <th></th>\n",
       "      <th>serial_number</th>\n",
       "      <th>outcome</th>\n",
       "    </tr>\n",
       "  </thead>\n",
       "  <tbody>\n",
       "    <tr>\n",
       "      <th>0</th>\n",
       "      <td>1</td>\n",
       "      <td>no</td>\n",
       "    </tr>\n",
       "    <tr>\n",
       "      <th>1</th>\n",
       "      <td>2</td>\n",
       "      <td>no</td>\n",
       "    </tr>\n",
       "    <tr>\n",
       "      <th>2</th>\n",
       "      <td>3</td>\n",
       "      <td>no</td>\n",
       "    </tr>\n",
       "    <tr>\n",
       "      <th>3</th>\n",
       "      <td>4</td>\n",
       "      <td>no</td>\n",
       "    </tr>\n",
       "    <tr>\n",
       "      <th>4</th>\n",
       "      <td>5</td>\n",
       "      <td>no</td>\n",
       "    </tr>\n",
       "  </tbody>\n",
       "</table>\n",
       "</div>"
      ],
      "text/plain": [
       "   serial_number outcome\n",
       "0              1      no\n",
       "1              2      no\n",
       "2              3      no\n",
       "3              4      no\n",
       "4              5      no"
      ]
     },
     "execution_count": 96,
     "metadata": {},
     "output_type": "execute_result"
    }
   ],
   "source": [
    "sub.head()"
   ]
  },
  {
   "cell_type": "code",
   "execution_count": 97,
   "metadata": {},
   "outputs": [],
   "source": [
    "sub.to_csv(\"sub_lgbm_xgb_stacked_prep3.csv\", index=False)"
   ]
  },
  {
   "cell_type": "code",
   "execution_count": null,
   "metadata": {},
   "outputs": [],
   "source": []
  }
 ],
 "metadata": {
  "kernelspec": {
   "display_name": "Python 3",
   "language": "python",
   "name": "python3"
  },
  "language_info": {
   "codemirror_mode": {
    "name": "ipython",
    "version": 3
   },
   "file_extension": ".py",
   "mimetype": "text/x-python",
   "name": "python",
   "nbconvert_exporter": "python",
   "pygments_lexer": "ipython3",
   "version": "3.7.0"
  }
 },
 "nbformat": 4,
 "nbformat_minor": 2
}
