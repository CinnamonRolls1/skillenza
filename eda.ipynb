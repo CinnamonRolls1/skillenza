{
 "cells": [
  {
   "cell_type": "markdown",
   "metadata": {},
   "source": [
    "# Simple EDA and Feature Preprocessing"
   ]
  },
  {
   "cell_type": "markdown",
   "metadata": {},
   "source": [
    "### No null values, lot of categorical feature, might have to drop a few features like 'date'.\n",
    "### It is an imbalanced dataset i.e a lot more no. of 'No' than 'Yes' outcomes... 29809 vs 1840, have to look at different ways to deal with this."
   ]
  },
  {
   "cell_type": "code",
   "execution_count": 18,
   "metadata": {},
   "outputs": [],
   "source": [
    "import numpy as np\n",
    "import matplotlib.pyplot as plt\n",
    "import pandas as pd\n",
    "import seaborn as sns\n",
    "from sklearn.ensemble import RandomForestClassifier\n",
    "\n",
    "from sklearn.ensemble import RandomForestRegressor\n",
    "from sklearn.metrics import mean_absolute_error\n",
    "from sklearn.metrics import accuracy_score\n",
    "from sklearn.preprocessing import Imputer\n",
    "from xgboost import XGBRegressor\n",
    "from sklearn.preprocessing import LabelEncoder\n"
   ]
  },
  {
   "cell_type": "code",
   "execution_count": 6,
   "metadata": {},
   "outputs": [
    {
     "name": "stdout",
     "output_type": "stream",
     "text": [
      "       serial_number  age_in_years  balance_in_account          date  \\\n",
      "count   31649.000000  31649.000000        31649.000000  31649.000000   \n",
      "mean    15825.000000     41.111820         1293.382540     16.597997   \n",
      "std      9136.423671      9.597652         2961.185138      8.586414   \n",
      "min         1.000000     19.000000        -8019.000000      1.000000   \n",
      "25%      7913.000000     33.000000           47.000000      9.000000   \n",
      "50%     15825.000000     40.000000          397.000000     18.000000   \n",
      "75%     23737.000000     49.000000         1328.000000     23.000000   \n",
      "max     31649.000000     94.000000        98417.000000     31.000000   \n",
      "\n",
      "       call_duration  campaign_contacts   days_passed  previous_contact  \n",
      "count   31649.000000       31649.000000  31649.000000      31649.000000  \n",
      "mean      252.408196           3.062372     10.819931          0.208537  \n",
      "std       262.344981           3.510245     48.086849          1.946336  \n",
      "min         0.000000           1.000000     -1.000000          0.000000  \n",
      "25%        98.000000           1.000000     -1.000000          0.000000  \n",
      "50%       171.000000           2.000000     -1.000000          0.000000  \n",
      "75%       305.000000           3.000000     -1.000000          0.000000  \n",
      "max      4918.000000          63.000000    335.000000        275.000000  \n",
      "   serial_number  age_in_years job_description marital_status  \\\n",
      "0              1            58      management        married   \n",
      "1              2            44      technician         single   \n",
      "2              3            33    entrepreneur        married   \n",
      "3              4            47     blue-collar        married   \n",
      "4              5            33         unknown         single   \n",
      "\n",
      "  education_details has_default  balance_in_account housing_status  \\\n",
      "0          tertiary          no                2143            yes   \n",
      "1         secondary          no                  29            yes   \n",
      "2         secondary          no                   2            yes   \n",
      "3           unknown          no                1506            yes   \n",
      "4           unknown          no                   1             no   \n",
      "\n",
      "  previous_loan phone_type  date month_of_year  call_duration  \\\n",
      "0            no    unknown     5           may            261   \n",
      "1            no    unknown     5           may            151   \n",
      "2           yes    unknown     5           may             76   \n",
      "3            no    unknown     5           may             92   \n",
      "4            no    unknown     5           may            198   \n",
      "\n",
      "   campaign_contacts  days_passed  previous_contact poutcome_of_campaign  \\\n",
      "0                  1           -1                 0              unknown   \n",
      "1                  1           -1                 0              unknown   \n",
      "2                  1           -1                 0              unknown   \n",
      "3                  1           -1                 0              unknown   \n",
      "4                  1           -1                 0              unknown   \n",
      "\n",
      "  outcome  \n",
      "0      no  \n",
      "1      no  \n",
      "2      no  \n",
      "3      no  \n",
      "4      no  \n"
     ]
    }
   ],
   "source": [
    "dataset = pd.read_csv('Yes_Bank_Training.csv')\n",
    "test = pd.read_csv('Yes_Bank_Test.csv')\n",
    "\n",
    "print(dataset.describe())\n",
    "print(dataset.head())\n"
   ]
  },
  {
   "cell_type": "code",
   "execution_count": 7,
   "metadata": {},
   "outputs": [
    {
     "name": "stdout",
     "output_type": "stream",
     "text": [
      "serial_number           0\n",
      "age_in_years            0\n",
      "job_description         0\n",
      "marital_status          0\n",
      "education_details       0\n",
      "has_default             0\n",
      "balance_in_account      0\n",
      "housing_status          0\n",
      "previous_loan           0\n",
      "phone_type              0\n",
      "date                    0\n",
      "month_of_year           0\n",
      "call_duration           0\n",
      "campaign_contacts       0\n",
      "days_passed             0\n",
      "previous_contact        0\n",
      "poutcome_of_campaign    0\n",
      "outcome                 0\n",
      "dtype: int64\n"
     ]
    }
   ],
   "source": [
    "print(dataset.isnull().sum())\n"
   ]
  },
  {
   "cell_type": "markdown",
   "metadata": {},
   "source": [
    "## Gives count of few Categorical features"
   ]
  },
  {
   "cell_type": "code",
   "execution_count": 26,
   "metadata": {},
   "outputs": [
    {
     "name": "stdout",
     "output_type": "stream",
     "text": [
      "blue-collar      6948\n",
      "management       6705\n",
      "technician       5684\n",
      "admin.           3354\n",
      "services         2965\n",
      "retired          1232\n",
      "self-employed    1164\n",
      "entrepreneur     1160\n",
      "housemaid         969\n",
      "unemployed        950\n",
      "student           297\n",
      "unknown           221\n",
      "Name: job_description, dtype: int64\n",
      "secondary    16303\n",
      "tertiary      9097\n",
      "primary       4977\n",
      "unknown       1272\n",
      "Name: education_details, dtype: int64\n",
      "cellular     17181\n",
      "unknown      12765\n",
      "telephone     1703\n",
      "Name: phone_type, dtype: int64\n",
      "0    29809\n",
      "1     1840\n",
      "Name: outcome, dtype: int64\n"
     ]
    }
   ],
   "source": [
    "print(dataset[\"job_description\"].value_counts())\n",
    "print(dataset[\"education_details\"].value_counts())\n",
    "print(dataset[\"phone_type\"].value_counts())\n",
    "#dataset[\"outcome_of_the_campaign\"].value_counts()\n",
    "print(dataset[\"outcome\"].value_counts())\n"
   ]
  },
  {
   "cell_type": "markdown",
   "metadata": {},
   "source": [
    "### Encodes target varible- yes/no to 1/0"
   ]
  },
  {
   "cell_type": "code",
   "execution_count": 20,
   "metadata": {},
   "outputs": [],
   "source": [
    "from sklearn.preprocessing import LabelEncoder\n",
    "encoder= LabelEncoder()\n",
    "dataset_cat= dataset[\"outcome\"]\n",
    "dataset_encoded= encoder.fit_transform(dataset_cat)\n",
    "dataset_encoded\n",
    "dataset['outcome']=dataset_encoded\n"
   ]
  },
  {
   "cell_type": "markdown",
   "metadata": {},
   "source": [
    "## Got to visualize more plots with different variables to deal with outliers, useless features etc.."
   ]
  },
  {
   "cell_type": "code",
   "execution_count": 21,
   "metadata": {},
   "outputs": [
    {
     "data": {
      "image/png": "[encoded data removed]",
      "text/plain": [
       "<Figure size 1296x576 with 1 Axes>"
      ]
     },
     "metadata": {
      "needs_background": "light"
     },
     "output_type": "display_data"
    }
   ],
   "source": [
    "X = dataset.drop(['serial_number'], axis=1)\n",
    "y=dataset['outcome']\n",
    "X_test = test.drop(['serial_number'], axis=1)\n",
    "_, axes = plt.subplots(sharey=True, figsize=(18, 8))\n",
    "\n",
    "sns.boxplot(x=X['balance_in_account'], y=y, orient='h');\n"
   ]
  },
  {
   "cell_type": "markdown",
   "metadata": {},
   "source": [
    "### Encodes binary categorical varables"
   ]
  },
  {
   "cell_type": "code",
   "execution_count": 22,
   "metadata": {},
   "outputs": [
    {
     "name": "stdout",
     "output_type": "stream",
     "text": [
      "3 columns were label encoded.\n"
     ]
    }
   ],
   "source": [
    "le = LabelEncoder()\n",
    "le_count = 0\n",
    "\n",
    "# Iterate through the columns\n",
    "for col in X:\n",
    "    if X[col].dtype == 'object':\n",
    "        # If 2 or fewer unique categories\n",
    "        if len(list(X[col].unique())) <= 2:\n",
    "            # Train on the training data\n",
    "            le.fit(X[col])\n",
    "            # Transform both training and testing data\n",
    "            X[col] = le.transform(X[col])\n",
    "            X_test[col] = le.transform(X_test[col])\n",
    "            \n",
    "            # Keep track of how many columns were label encoded\n",
    "            le_count += 1\n",
    "            \n",
    "print('%d columns were label encoded.' % le_count)\n"
   ]
  },
  {
   "cell_type": "markdown",
   "metadata": {},
   "source": [
    "### One hot encoding categoric variables"
   ]
  },
  {
   "cell_type": "code",
   "execution_count": 23,
   "metadata": {},
   "outputs": [
    {
     "name": "stdout",
     "output_type": "stream",
     "text": [
      "Training Features shape:  (31649, 48)\n",
      "Testing Features shape:  (13562, 47)\n"
     ]
    }
   ],
   "source": [
    "X = pd.get_dummies(X)#One hot encoding(Prolly better ways of doing this)\n",
    "X_test = pd.get_dummies(X_test)\n",
    "\n",
    "train_labels = X['outcome']\n",
    "# Align the training and testing data, keep only columns present in both dataframes\n",
    "X, X_test = X.align(X_test, join = 'inner', axis = 1)\n",
    "\n",
    "# Add the target back in\n",
    "X['outcome'] = train_labels\n",
    "\n",
    "print('Training Features shape: ', X.shape)\n",
    "print('Testing Features shape: ', X_test.shape)\n",
    "\n"
   ]
  },
  {
   "cell_type": "markdown",
   "metadata": {},
   "source": [
    "### Correlations, gotta read up more on this..."
   ]
  },
  {
   "cell_type": "code",
   "execution_count": 24,
   "metadata": {},
   "outputs": [
    {
     "name": "stdout",
     "output_type": "stream",
     "text": [
      "Most Positive Correlations:\n",
      " phone_type_telephone            0.016152\n",
      "month_of_year_apr               0.017399\n",
      "job_description_retired         0.019110\n",
      "job_description_student         0.020633\n",
      "marital_status_divorced         0.023322\n",
      "balance_in_account              0.025711\n",
      "poutcome_of_campaign_success    0.027502\n",
      "education_details_tertiary      0.036436\n",
      "marital_status_single           0.040299\n",
      "phone_type_cellular             0.059126\n",
      "month_of_year_feb               0.063255\n",
      "month_of_year_oct               0.119257\n",
      "month_of_year_mar               0.165181\n",
      "call_duration                   0.476821\n",
      "outcome                         1.000000\n",
      "Name: outcome, dtype: float64\n",
      "\n",
      "Most Negative Correlations:\n",
      " phone_type_unknown             -0.067470\n",
      "month_of_year_may              -0.063681\n",
      "marital_status_married         -0.051935\n",
      "housing_status                 -0.038693\n",
      "campaign_contacts              -0.023763\n",
      "previous_loan                  -0.023491\n",
      "month_of_year_jun              -0.023153\n",
      "month_of_year_jan              -0.021680\n",
      "job_description_blue-collar    -0.021184\n",
      "date                           -0.021093\n",
      "education_details_primary      -0.018676\n",
      "poutcome_of_campaign_failure   -0.018576\n",
      "age_in_years                   -0.016021\n",
      "days_passed                    -0.015878\n",
      "job_description_housemaid      -0.015155\n",
      "Name: outcome, dtype: float64\n"
     ]
    }
   ],
   "source": [
    "correlations = X.corr()['outcome'].sort_values()\n",
    "# Display correlations\n",
    "print('Most Positive Correlations:\\n', correlations.tail(15))\n",
    "print('\\nMost Negative Correlations:\\n', correlations.head(15))\n"
   ]
  },
  {
   "cell_type": "markdown",
   "metadata": {},
   "source": [
    "# MODEL TRAINING"
   ]
  },
  {
   "cell_type": "markdown",
   "metadata": {},
   "source": [
    "### Random Forest Regressor giving 94% acccuracy xD Overfitting?\n",
    "### Got to try out other cross validation techniques..."
   ]
  },
  {
   "cell_type": "code",
   "execution_count": 25,
   "metadata": {},
   "outputs": [
    {
     "name": "stderr",
     "output_type": "stream",
     "text": [
      "C:\\Users\\Niranjan\\Anaconda3\\lib\\site-packages\\sklearn\\ensemble\\forest.py:248: FutureWarning: The default value of n_estimators will change from 10 in version 0.20 to 100 in 0.22.\n",
      "  \"10 in version 0.20 to 100 in 0.22.\", FutureWarning)\n"
     ]
    },
    {
     "name": "stdout",
     "output_type": "stream",
     "text": [
      "0.9449007961582206\n",
      "Mean Absolute Error from Imputation while Track What Was Imputed:\n"
     ]
    }
   ],
   "source": [
    "X_train=X.drop(['outcome'], axis=1)\n",
    "y=X['outcome']\n",
    "\n",
    "from sklearn.model_selection import train_test_split\n",
    "X_train_final, X_val, y_train, y_val = train_test_split(X_train, y, test_size = 0.25,  shuffle=True, random_state = 0)\n",
    "\n",
    "regressor = RandomForestClassifier(random_state = 0)\n",
    "regressor.fit(X_train_final, y_train)\n",
    "y_pred = regressor.predict(X_val)\n",
    "print(accuracy_score(y_pred, y_val))\n",
    "print(\"Mean Absolute Error from Imputation while Track What Was Imputed:\")\n"
   ]
  },
  {
   "cell_type": "markdown",
   "metadata": {},
   "source": [
    "# Things to try out on top of my head\n",
    "### K- fold cross validation\n",
    "### More EDA and feature processing, plots, polynomial features, try to make additional features\n",
    "### Ensembling, hyperparameter tuning, choosing the right model..."
   ]
  },
  {
   "cell_type": "code",
   "execution_count": null,
   "metadata": {},
   "outputs": [],
   "source": []
  },
  {
   "cell_type": "code",
   "execution_count": null,
   "metadata": {},
   "outputs": [],
   "source": []
  }
 ],
 "metadata": {
  "kernelspec": {
   "display_name": "Python 3",
   "language": "python",
   "name": "python3"
  },
  "language_info": {
   "codemirror_mode": {
    "name": "ipython",
    "version": 3
   },
   "file_extension": ".py",
   "mimetype": "text/x-python",
   "name": "python",
   "nbconvert_exporter": "python",
   "pygments_lexer": "ipython3",
   "version": "3.7.0"
  }
 },
 "nbformat": 4,
 "nbformat_minor": 2
}
